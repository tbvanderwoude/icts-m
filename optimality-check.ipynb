{
 "cells": [
  {
   "cell_type": "code",
   "execution_count": 4,
   "id": "photographic-connectivity",
   "metadata": {
    "scrolled": true
   },
   "outputs": [
    {
     "data": {
      "text/plain": [
       "[('raw-backup/enhanced-child',\n",
       "  ['Open-20x20-A4_T3',\n",
       "   'Open-20x20-A6_T3',\n",
       "   'Open-20x20-A5_T3',\n",
       "   'Open-20x20-A10_T3',\n",
       "   'Open-20x20-A7_T3',\n",
       "   'Open-20x20-A1_T3',\n",
       "   'Open-20x20-A3_T3',\n",
       "   'Open-20x20-A8_T3',\n",
       "   'Open-20x20-A2_T3',\n",
       "   'Open-20x20-A9_T3']),\n",
       " ('raw-backup/enhanced',\n",
       "  ['Open-20x20-A4_T3',\n",
       "   'Open-20x20-A6_T3',\n",
       "   'Open-20x20-A5_T3',\n",
       "   'Open-20x20-A10_T3',\n",
       "   'Open-20x20-A7_T3',\n",
       "   'Open-20x20-A1_T3',\n",
       "   'Open-20x20-A3_T3',\n",
       "   'Open-20x20-A8_T3',\n",
       "   'Open-20x20-A2_T3',\n",
       "   'Open-20x20-A9_T3']),\n",
       " ('raw-backup/simple-child',\n",
       "  ['Open-20x20-A4_T3',\n",
       "   'Open-20x20-A6_T3',\n",
       "   'Open-20x20-A5_T3',\n",
       "   'Open-20x20-A10_T3',\n",
       "   'Open-20x20-A7_T3',\n",
       "   'Open-20x20-A1_T3',\n",
       "   'Open-20x20-A3_T3',\n",
       "   'Open-20x20-A8_T3',\n",
       "   'Open-20x20-A2_T3',\n",
       "   'Open-20x20-A9_T3']),\n",
       " ('raw-backup/simple',\n",
       "  ['Open-20x20-A4_T3',\n",
       "   'Open-20x20-A6_T3',\n",
       "   'Open-20x20-A5_T3',\n",
       "   'Open-20x20-A10_T3',\n",
       "   'Open-20x20-A7_T3',\n",
       "   'Open-20x20-A1_T3',\n",
       "   'Open-20x20-A3_T3',\n",
       "   'Open-20x20-A8_T3',\n",
       "   'Open-20x20-A2_T3',\n",
       "   'Open-20x20-A9_T3'])]"
      ]
     },
     "execution_count": 4,
     "metadata": {},
     "output_type": "execute_result"
    }
   ],
   "source": [
    "import os\n",
    "import pickle\n",
    "\n",
    "raw_files = [(x[0], x[2]) for x in os.walk('raw-backup')][1:]\n",
    "raw_files"
   ]
  },
  {
   "cell_type": "code",
   "execution_count": 5,
   "id": "genuine-discovery",
   "metadata": {},
   "outputs": [],
   "source": [
    "def get_raw_results(files):\n",
    "    raw_results = []\n",
    "    for file_name in sorted(files[1]):\n",
    "        with open(files[0] + '/' + file_name, 'rb') as f:\n",
    "            raw_results.append(pickle.load(f))\n",
    "    return raw_results\n",
    "\n",
    "def extract_costs(results):\n",
    "    return list(map(lambda x: x[1][3],flatten(results)))\n",
    "def extract_times(results):\n",
    "    return list(map(lambda x: x[1][3],flatten(results)))\n",
    "def flatten(xs):\n",
    "    return [item for subl in xs for item in subl]"
   ]
  },
  {
   "cell_type": "code",
   "execution_count": 6,
   "id": "blind-interval",
   "metadata": {},
   "outputs": [
    {
     "name": "stdout",
     "output_type": "stream",
     "text": [
      "2000\n"
     ]
    }
   ],
   "source": [
    "raw_results = list(map(lambda x: flatten(get_raw_results(x)),raw_files))\n",
    "combs = list(zip(*raw_results))\n",
    "print(len(combs))\n",
    "for x in combs:\n",
    "    cmp = []\n",
    "    for e in x:\n",
    "        if e[1]:\n",
    "            cmp.append(e[1][3])\n",
    "    if cmp:\n",
    "        v = cmp[0]\n",
    "        for c in cmp[1:]:\n",
    "            if c!=v:\n",
    "                print(\"ERROR!\") "
   ]
  },
  {
   "cell_type": "code",
   "execution_count": null,
   "id": "occupied-mixer",
   "metadata": {},
   "outputs": [],
   "source": []
  },
  {
   "cell_type": "code",
   "execution_count": null,
   "id": "roman-frontier",
   "metadata": {},
   "outputs": [],
   "source": []
  },
  {
   "cell_type": "code",
   "execution_count": null,
   "id": "social-queensland",
   "metadata": {},
   "outputs": [],
   "source": []
  },
  {
   "cell_type": "code",
   "execution_count": null,
   "id": "informational-preparation",
   "metadata": {},
   "outputs": [],
   "source": []
  }
 ],
 "metadata": {
  "kernelspec": {
   "display_name": "Python 3",
   "language": "python",
   "name": "python3"
  },
  "language_info": {
   "codemirror_mode": {
    "name": "ipython",
    "version": 3
   },
   "file_extension": ".py",
   "mimetype": "text/x-python",
   "name": "python",
   "nbconvert_exporter": "python",
   "pygments_lexer": "ipython3",
   "version": "3.8.8"
  }
 },
 "nbformat": 4,
 "nbformat_minor": 5
}
